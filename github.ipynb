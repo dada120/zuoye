{
 "cells": [
  {
   "cell_type": "markdown",
   "metadata": {},
   "source": [
    "# Git"
   ]
  },
  {
   "cell_type": "markdown",
   "metadata": {},
   "source": [
    "## 什么是Git"
   ]
  },
  {
   "cell_type": "markdown",
   "metadata": {},
   "source": [
    "&emsp;Git是一个**免费开源分布式版本控制系统**旨在快速高效地处理从小型到大型的所有项目。\n",
    "\n",
    "&emsp;Git是**易于学习**并且有一个**具有闪电般快速性能的微小尺寸**。它超越了像Subversion、CVS、Perforce和ClearCase这样的配置管理工具，具有如下特性**廉价的本地分行，方便中转区，和多个工作流**。"
   ]
  },
  {
   "cell_type": "markdown",
   "metadata": {},
   "source": [
    "&emsp;Git直接记录快照，而非差异比较：为了效率，如果文件没有修改，Git 不再重新存储该文件，而是只保留一个链接指向之前存储的文件。 Git 对待数据更像是一个 快照流。\n",
    "\n",
    "&emsp;近乎所有操作都是本地执行：在Git中的绝大多数操作都只需要访问本地文件和资源，一般不需要来自网络上其它计算机的信息。\n",
    "\n",
    "&emsp;Git保证完整性：Git中所有的数据在存储前都计算校验和，然后以校验和来引用。\n",
    "\n",
    "&emsp;Git一般只添加数据：执行的Git操作，几乎只往Git数据库中添加数据，很难让 Git 执行任何不可逆操作，或者让它以任何方式清除数据。\n"
   ]
  },
  {
   "cell_type": "markdown",
   "metadata": {},
   "source": [
    "Git 有三种状态，你的文件可能处于其中之一： 已提交（committed）、已修改（modified） 和 已暂存（staged）。\n",
    "\n",
    "1.已修改表示修改了文件，但还没保存到数据库中。\n",
    "\n",
    "2.已暂存表示对一个已修改文件的当前版本做了标记，使之包含在下次提交的快照中。\n",
    "\n",
    "3.已提交表示数据已经安全地保存在本地数据库中。\n",
    "\n",
    "这会让我们的 Git 项目拥有三个阶段：工作区、暂存区以及 Git 目录。"
   ]
  },
  {
   "cell_type": "markdown",
   "metadata": {},
   "source": [
    "# 一、起步"
   ]
  },
  {
   "cell_type": "markdown",
   "metadata": {},
   "source": [
    "## 安装Git之后\n",
    "用户信息配置：设置用户名和邮件地址\n",
    "\n",
    "设置用户名：$ git config --global user.name \"John Doe\"\n",
    "\n",
    "设置邮件地址：$ git config --global user.email johndoe@example.com\n",
    "\n",
    "如果使用了 --global 选项，那么该命令只需要运行一次，因为之后无论你在该系统上做任何事情，Git都会使用那些信息。"
   ]
  },
  {
   "cell_type": "markdown",
   "metadata": {},
   "source": [
    "配置结束后可以使用命令：$git config --list 来检查配置信息\n",
    "\n",
    "也可以可以通过使用命令：git config key 来检查Git的某一项配置: $git config user.name"
   ]
  },
  {
   "cell_type": "markdown",
   "metadata": {},
   "source": [
    "### 获取帮助\n",
    "找到 Git 命令的综合手册：\n",
    "\n",
    "$ git help （config）\n",
    "\n",
    "$ git （config）--help\n",
    "\n",
    "$ man git-（config）\n",
    "\n",
    "$ git add -h：不需要全面的手册，只需要可用选项的快速参考，那么可以用 -h 选项获得更简明的 “help” 输出"
   ]
  },
  {
   "cell_type": "markdown",
   "metadata": {},
   "source": [
    "# 二、基础\n"
   ]
  },
  {
   "cell_type": "markdown",
   "metadata": {},
   "source": [
    "## 获取 Git 仓库\n",
    "$mkdir gittutorcn\n",
    "\n",
    "$cd gittutorcn\n",
    "\n",
    "$git init ：初始化Git仓库\n",
    "该命令将创建一个名为 .git 的子目录，这个子目录含有你初始化的 Git 仓库中所有的必须文件，这些文件是 Git 仓库的骨干。"
   ]
  },
  {
   "cell_type": "markdown",
   "metadata": {},
   "source": [
    "## 克隆现有的仓库\n",
    "$git clone <url> \n",
    "\n",
    "$ git clone https://github.com/libgit2/libgit2 ：克隆Git的链接库libgit2。这会在当前目录下创建一个名为 “libgit2” 的目录，并在这个目录下初始化一个 .git 文件夹， 从远程仓库拉取下所有数据放入 .git 文件夹，然后从中读取最新版本的文件的拷贝。\n",
    "\n",
    "$ git clone https://github.com/libgit2/libgit2 mylibgit：在克隆远程仓库的时候，自定义本地仓库的名字为\"mylibfit\""
   ]
  },
  {
   "cell_type": "markdown",
   "metadata": {},
   "source": [
    "### 跟踪新文件\n",
    "$ git add\n",
    "\n",
    "$ git add README:跟踪 README 文件\n",
    "\n",
    "此时再运行 $git status 命令，会看到 README 文件已被跟踪，并处于暂存状态"
   ]
  },
  {
   "cell_type": "markdown",
   "metadata": {},
   "source": [
    "### 移除文件\n",
    "$git rm :从已跟踪文件清单中移除（确切地说，是从暂存区域移除）\n",
    "\n",
    "如果要删除之前修改过或已经放到暂存区的文件，则必须使用强制删除选项 -f\n",
    "\n",
    "我们想把文件从 Git 仓库中删除（亦即从暂存区域移除），但仍然希望保留在当前工作目录中 :使用 --cached 例如：$ git rm --cached README\n",
    "\n",
    " git rm 命令后面可以列出文件或者目录的名字，也可以使用 glob 模式。比如：$ git rm log/\\ *.log 此命令删除 log/ 目录下扩展名为 .log 的所有文件\n",
    "\n",
    " git rm \\ *~ :该命令会删除所有名字以 ~ 结尾的文件。"
   ]
  },
  {
   "cell_type": "markdown",
   "metadata": {},
   "source": [
    "### 移动文件\n",
    "$ git mv file_from file_to 在 Git 中对文件改名\n",
    "\n",
    "运行 git mv 就相当于运行了下面三条命令：\n",
    "\n",
    "$ mv README.md README\n",
    "\n",
    "$ git rm README.md\n",
    "\n",
    "$ git add README"
   ]
  },
  {
   "cell_type": "markdown",
   "metadata": {},
   "source": [
    "### 查看提交历史\n",
    "$git log 会按时间先后顺序列出所有的提交，最近的更新排在最上面。\n",
    "\n",
    "$ git log -p -2 只显示最近的两次提交\n",
    "\n",
    "$ git log --stat 每次提交的简略统计信息\n",
    "\n",
    "$ git log --pretty=oneline 将每个提交放在一行显示\n",
    "\n",
    "……\n"
   ]
  },
  {
   "cell_type": "markdown",
   "metadata": {},
   "source": [
    "### 撤销操作\n",
    "例如，你提交后发现忘记了暂存某些需要的修改，可以像下面这样操作：\n",
    "\n",
    "$ git commit -m 'initial commit'\n",
    "\n",
    "$ git add forgotten_file\n",
    "\n",
    "$ git commit --amend\n",
    "\n",
    "最终你只会有一个提交——第二次提交将代替第一次提交的结果。"
   ]
  },
  {
   "cell_type": "markdown",
   "metadata": {},
   "source": [
    "### 查看远程仓库\n",
    "$git remote\n",
    "\n",
    "$ git remote -v 可以指定选项 -v，会显示需要读写远程仓库使用的 Git 保存的简写与其对应的 URL。\n"
   ]
  },
  {
   "cell_type": "markdown",
   "metadata": {},
   "source": [
    "### 添加远程仓库\n",
    "$git remote add (shortname) (url) 添加一个新的远程 Git仓库，同时指定一个方便使用的简写 \n",
    "\n",
    "例如：$ git remote add pb https://github.com/paulboone/ticgit"
   ]
  },
  {
   "cell_type": "markdown",
   "metadata": {},
   "source": [
    "### 从远程仓库中抓取与拉取\n",
    "$ git fetch <remote>  这个命令会访问远程仓库，从中拉取所有你还没有的数据\n"
   ]
  },
  {
   "cell_type": "markdown",
   "metadata": {},
   "source": [
    "### 查看某个远程仓库\n",
    "$git remote show (remote) 命令"
   ]
  },
  {
   "cell_type": "markdown",
   "metadata": {},
   "source": [
    "### 远程仓库的重命名与移除\n",
    " $git remote rename 来修改一个远程仓库的简写名\n",
    " \n",
    " $git remote remove 或 git remote rm 移除远程仓库"
   ]
  },
  {
   "cell_type": "markdown",
   "metadata": {},
   "source": [
    "### 列标签\n",
    "$git tag 以字母顺序列出标签\n"
   ]
  },
  {
   "cell_type": "markdown",
   "metadata": {},
   "source": [
    "### 删除标签\n",
    "$git tag -d (tagname)"
   ]
  },
  {
   "cell_type": "markdown",
   "metadata": {},
   "source": [
    "### Git别名\n",
    "$git config 文件来轻松地为每一个命令设置一个别名\n",
    "\n",
    "$ git config --global alias.ci commit 这意味着，当要输入 git commit 时，只需要输入 git ci"
   ]
  },
  {
   "cell_type": "code",
   "execution_count": null,
   "metadata": {},
   "outputs": [],
   "source": []
  }
 ],
 "metadata": {
  "kernelspec": {
   "display_name": "Python 3",
   "language": "python",
   "name": "python3"
  },
  "language_info": {
   "codemirror_mode": {
    "name": "ipython",
    "version": 3
   },
   "file_extension": ".py",
   "mimetype": "text/x-python",
   "name": "python",
   "nbconvert_exporter": "python",
   "pygments_lexer": "ipython3",
   "version": "3.7.0"
  }
 },
 "nbformat": 4,
 "nbformat_minor": 2
}
